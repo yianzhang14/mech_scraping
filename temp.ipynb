{
 "cells": [
  {
   "cell_type": "code",
   "execution_count": 1,
   "metadata": {},
   "outputs": [],
   "source": [
    "import numpy as np\n",
    "import pandas as pd\n",
    "import bs4 as bs\n",
    "import requests\n",
    "import re"
   ]
  },
  {
   "cell_type": "code",
   "execution_count": 2,
   "metadata": {},
   "outputs": [],
   "source": [
    "url = \"https://kbdfans.com/collections/switches/products/gateron-ink-v2-silent-black-linear-switches\""
   ]
  },
  {
   "cell_type": "code",
   "execution_count": 3,
   "metadata": {},
   "outputs": [],
   "source": [
    "raw = requests.get(url)"
   ]
  },
  {
   "cell_type": "code",
   "execution_count": 4,
   "metadata": {},
   "outputs": [],
   "source": [
    "html = bs.BeautifulSoup(raw.text, 'html.parser')"
   ]
  },
  {
   "cell_type": "code",
   "execution_count": 5,
   "metadata": {},
   "outputs": [
    {
     "data": {
      "text/plain": [
       "'10 switches per pack'"
      ]
     },
     "execution_count": 5,
     "metadata": {},
     "output_type": "execute_result"
    }
   ],
   "source": [
    "re.search(\"[0-9]{2,3} switches Per Pack\", raw.text, re.IGNORECASE).group()"
   ]
  },
  {
   "cell_type": "code",
   "execution_count": null,
   "metadata": {},
   "outputs": [
    {
     "data": {
      "text/plain": [
       "<module 're' from 'c:\\\\Users\\\\yianz\\\\miniconda3\\\\envs\\\\hackillinois\\\\lib\\\\re.py'>"
      ]
     },
     "execution_count": 8,
     "metadata": {},
     "output_type": "execute_result"
    }
   ],
   "source": [
    "re.search()"
   ]
  },
  {
   "cell_type": "code",
   "execution_count": 6,
   "metadata": {},
   "outputs": [],
   "source": [
    "df = pd.read_csv(\"waaaaa.csv\")"
   ]
  },
  {
   "cell_type": "code",
   "execution_count": 7,
   "metadata": {},
   "outputs": [
    {
     "data": {
      "text/html": [
       "<div>\n",
       "<style scoped>\n",
       "    .dataframe tbody tr th:only-of-type {\n",
       "        vertical-align: middle;\n",
       "    }\n",
       "\n",
       "    .dataframe tbody tr th {\n",
       "        vertical-align: top;\n",
       "    }\n",
       "\n",
       "    .dataframe thead th {\n",
       "        text-align: right;\n",
       "    }\n",
       "</style>\n",
       "<table border=\"1\" class=\"dataframe\">\n",
       "  <thead>\n",
       "    <tr style=\"text-align: right;\">\n",
       "      <th></th>\n",
       "      <th>Unnamed: 0</th>\n",
       "      <th>vender</th>\n",
       "      <th>url</th>\n",
       "      <th>product</th>\n",
       "      <th>description</th>\n",
       "      <th>image</th>\n",
       "      <th>price</th>\n",
       "      <th>live</th>\n",
       "    </tr>\n",
       "  </thead>\n",
       "  <tbody>\n",
       "    <tr>\n",
       "      <th>0</th>\n",
       "      <td>0</td>\n",
       "      <td>KBDfans® Mechanical Keyboards Store</td>\n",
       "      <td>https://kbdfans.com/collections/keycaps/produc...</td>\n",
       "      <td>GMK Chaos Theory</td>\n",
       "      <td>Update R2 sample rejected, waiting for GMK to ...</td>\n",
       "      <td>http://cdn.shopify.com/s/files/1/1473/3902/pro...</td>\n",
       "      <td>$54.00</td>\n",
       "      <td>🛒Pre-order</td>\n",
       "    </tr>\n",
       "    <tr>\n",
       "      <th>1</th>\n",
       "      <td>1</td>\n",
       "      <td>KBDfans® Mechanical Keyboards Store</td>\n",
       "      <td>https://kbdfans.com/products/d60-pc-version-me...</td>\n",
       "      <td>D60lite PC Version Mechanical Keyboard KIT</td>\n",
       "      <td>New D60lite Leaf gasket+ Mirror finish, new D6...</td>\n",
       "      <td>http://cdn.shopify.com/s/files/1/1473/3902/pro...</td>\n",
       "      <td>$99.00</td>\n",
       "      <td>🚀 In Stock</td>\n",
       "    </tr>\n",
       "    <tr>\n",
       "      <th>2</th>\n",
       "      <td>2</td>\n",
       "      <td>KBDfans® Mechanical Keyboards Store</td>\n",
       "      <td>https://kbdfans.com/collections/keycaps/produc...</td>\n",
       "      <td>Enjoypbt Photoshop dye-sub keycaps set</td>\n",
       "      <td>SPECS Material: PBT material Profile: Cherry P...</td>\n",
       "      <td>http://cdn.shopify.com/s/files/1/1473/3902/pro...</td>\n",
       "      <td>$39.00</td>\n",
       "      <td>🏷️Clearance</td>\n",
       "    </tr>\n",
       "    <tr>\n",
       "      <th>3</th>\n",
       "      <td>3</td>\n",
       "      <td>KBDfans® Mechanical Keyboards Store</td>\n",
       "      <td>https://kbdfans.com/collections/keycaps/produc...</td>\n",
       "      <td>GMK fenglisu (鳳梨酥)</td>\n",
       "      <td>Inspiration This set draws inspiration from a ...</td>\n",
       "      <td>http://cdn.shopify.com/s/files/1/1473/3902/pro...</td>\n",
       "      <td>$226.00</td>\n",
       "      <td>🛒Pre-order</td>\n",
       "    </tr>\n",
       "    <tr>\n",
       "      <th>4</th>\n",
       "      <td>4</td>\n",
       "      <td>KBDfans® Mechanical Keyboards Store</td>\n",
       "      <td>https://kbdfans.com/collections/keycaps/produc...</td>\n",
       "      <td>DZ60 CNC Aluminum 60% Plate A</td>\n",
       "      <td>Plate-A（left shift is 2U）It's not compatible w...</td>\n",
       "      <td>http://cdn.shopify.com/s/files/1/1473/3902/pro...</td>\n",
       "      <td>$9.90</td>\n",
       "      <td>🏷️Clearance</td>\n",
       "    </tr>\n",
       "    <tr>\n",
       "      <th>...</th>\n",
       "      <td>...</td>\n",
       "      <td>...</td>\n",
       "      <td>...</td>\n",
       "      <td>...</td>\n",
       "      <td>...</td>\n",
       "      <td>...</td>\n",
       "      <td>...</td>\n",
       "      <td>...</td>\n",
       "    </tr>\n",
       "    <tr>\n",
       "      <th>80</th>\n",
       "      <td>80</td>\n",
       "      <td>KBDfans® Mechanical Keyboards Store</td>\n",
       "      <td>https://kbdfans.com/collections/keycaps/produc...</td>\n",
       "      <td>R2 GMK Firefly</td>\n",
       "      <td>Update Selling extra pre-order (2022-11-04) Gr...</td>\n",
       "      <td>http://cdn.shopify.com/s/files/1/1473/3902/pro...</td>\n",
       "      <td>$150.00</td>\n",
       "      <td>🛒Pre-order</td>\n",
       "    </tr>\n",
       "    <tr>\n",
       "      <th>81</th>\n",
       "      <td>81</td>\n",
       "      <td>KBDfans® Mechanical Keyboards Store</td>\n",
       "      <td>https://kbdfans.com/collections/keycaps/produc...</td>\n",
       "      <td>OSA Marrs Green PBT Doubleshot Keycaps Set</td>\n",
       "      <td>SPECS Material: PBT material Profile: OSA prof...</td>\n",
       "      <td>http://cdn.shopify.com/s/files/1/1473/3902/pro...</td>\n",
       "      <td>$69.00</td>\n",
       "      <td>🚀 In Stock</td>\n",
       "    </tr>\n",
       "    <tr>\n",
       "      <th>82</th>\n",
       "      <td>82</td>\n",
       "      <td>KBDfans® Mechanical Keyboards Store</td>\n",
       "      <td>https://kbdfans.com/collections/keycaps/produc...</td>\n",
       "      <td>PBTfans Dolch</td>\n",
       "      <td>Update Start the selling. (2022-10-19) Expecte...</td>\n",
       "      <td>http://cdn.shopify.com/s/files/1/1473/3902/pro...</td>\n",
       "      <td>$80.00</td>\n",
       "      <td>🚀 In Stock</td>\n",
       "    </tr>\n",
       "    <tr>\n",
       "      <th>83</th>\n",
       "      <td>83</td>\n",
       "      <td>KBDfans® Mechanical Keyboards Store</td>\n",
       "      <td>https://kbdfans.com/collections/keycaps/produc...</td>\n",
       "      <td>GMK Gladiator</td>\n",
       "      <td>Update Selling extra pre-order (2022-11-05) Hi...</td>\n",
       "      <td>http://cdn.shopify.com/s/files/1/1473/3902/pro...</td>\n",
       "      <td>$273.00</td>\n",
       "      <td>🛒Pre-order</td>\n",
       "    </tr>\n",
       "    <tr>\n",
       "      <th>84</th>\n",
       "      <td>84</td>\n",
       "      <td>KBDfans® Mechanical Keyboards Store</td>\n",
       "      <td>https://kbdfans.com/collections/keycaps/produc...</td>\n",
       "      <td>ePBT DuO</td>\n",
       "      <td>Update Fulfillment of Group Buy orders, sellin...</td>\n",
       "      <td>http://cdn.shopify.com/s/files/1/1473/3902/pro...</td>\n",
       "      <td>$35.00</td>\n",
       "      <td>🚀Only Child Kit In Stock</td>\n",
       "    </tr>\n",
       "  </tbody>\n",
       "</table>\n",
       "<p>85 rows × 8 columns</p>\n",
       "</div>"
      ],
      "text/plain": [
       "    Unnamed: 0                               vender  \\\n",
       "0            0  KBDfans® Mechanical Keyboards Store   \n",
       "1            1  KBDfans® Mechanical Keyboards Store   \n",
       "2            2  KBDfans® Mechanical Keyboards Store   \n",
       "3            3  KBDfans® Mechanical Keyboards Store   \n",
       "4            4  KBDfans® Mechanical Keyboards Store   \n",
       "..         ...                                  ...   \n",
       "80          80  KBDfans® Mechanical Keyboards Store   \n",
       "81          81  KBDfans® Mechanical Keyboards Store   \n",
       "82          82  KBDfans® Mechanical Keyboards Store   \n",
       "83          83  KBDfans® Mechanical Keyboards Store   \n",
       "84          84  KBDfans® Mechanical Keyboards Store   \n",
       "\n",
       "                                                  url  \\\n",
       "0   https://kbdfans.com/collections/keycaps/produc...   \n",
       "1   https://kbdfans.com/products/d60-pc-version-me...   \n",
       "2   https://kbdfans.com/collections/keycaps/produc...   \n",
       "3   https://kbdfans.com/collections/keycaps/produc...   \n",
       "4   https://kbdfans.com/collections/keycaps/produc...   \n",
       "..                                                ...   \n",
       "80  https://kbdfans.com/collections/keycaps/produc...   \n",
       "81  https://kbdfans.com/collections/keycaps/produc...   \n",
       "82  https://kbdfans.com/collections/keycaps/produc...   \n",
       "83  https://kbdfans.com/collections/keycaps/produc...   \n",
       "84  https://kbdfans.com/collections/keycaps/produc...   \n",
       "\n",
       "                                       product  \\\n",
       "0                             GMK Chaos Theory   \n",
       "1   D60lite PC Version Mechanical Keyboard KIT   \n",
       "2       Enjoypbt Photoshop dye-sub keycaps set   \n",
       "3                           GMK fenglisu (鳳梨酥)   \n",
       "4                DZ60 CNC Aluminum 60% Plate A   \n",
       "..                                         ...   \n",
       "80                              R2 GMK Firefly   \n",
       "81  OSA Marrs Green PBT Doubleshot Keycaps Set   \n",
       "82                               PBTfans Dolch   \n",
       "83                               GMK Gladiator   \n",
       "84                                    ePBT DuO   \n",
       "\n",
       "                                          description  \\\n",
       "0   Update R2 sample rejected, waiting for GMK to ...   \n",
       "1   New D60lite Leaf gasket+ Mirror finish, new D6...   \n",
       "2   SPECS Material: PBT material Profile: Cherry P...   \n",
       "3   Inspiration This set draws inspiration from a ...   \n",
       "4   Plate-A（left shift is 2U）It's not compatible w...   \n",
       "..                                                ...   \n",
       "80  Update Selling extra pre-order (2022-11-04) Gr...   \n",
       "81  SPECS Material: PBT material Profile: OSA prof...   \n",
       "82  Update Start the selling. (2022-10-19) Expecte...   \n",
       "83  Update Selling extra pre-order (2022-11-05) Hi...   \n",
       "84  Update Fulfillment of Group Buy orders, sellin...   \n",
       "\n",
       "                                                image    price  \\\n",
       "0   http://cdn.shopify.com/s/files/1/1473/3902/pro...   $54.00   \n",
       "1   http://cdn.shopify.com/s/files/1/1473/3902/pro...   $99.00   \n",
       "2   http://cdn.shopify.com/s/files/1/1473/3902/pro...   $39.00   \n",
       "3   http://cdn.shopify.com/s/files/1/1473/3902/pro...  $226.00   \n",
       "4   http://cdn.shopify.com/s/files/1/1473/3902/pro...    $9.90   \n",
       "..                                                ...      ...   \n",
       "80  http://cdn.shopify.com/s/files/1/1473/3902/pro...  $150.00   \n",
       "81  http://cdn.shopify.com/s/files/1/1473/3902/pro...   $69.00   \n",
       "82  http://cdn.shopify.com/s/files/1/1473/3902/pro...   $80.00   \n",
       "83  http://cdn.shopify.com/s/files/1/1473/3902/pro...  $273.00   \n",
       "84  http://cdn.shopify.com/s/files/1/1473/3902/pro...   $35.00   \n",
       "\n",
       "                        live  \n",
       "0                 🛒Pre-order  \n",
       "1                 🚀 In Stock  \n",
       "2                🏷️Clearance  \n",
       "3                 🛒Pre-order  \n",
       "4                🏷️Clearance  \n",
       "..                       ...  \n",
       "80                🛒Pre-order  \n",
       "81                🚀 In Stock  \n",
       "82                🚀 In Stock  \n",
       "83                🛒Pre-order  \n",
       "84  🚀Only Child Kit In Stock  \n",
       "\n",
       "[85 rows x 8 columns]"
      ]
     },
     "execution_count": 7,
     "metadata": {},
     "output_type": "execute_result"
    }
   ],
   "source": [
    "df"
   ]
  },
  {
   "cell_type": "code",
   "execution_count": 9,
   "metadata": {},
   "outputs": [],
   "source": [
    "pattern = re.compile('[\\W_]+')"
   ]
  },
  {
   "cell_type": "code",
   "execution_count": 10,
   "metadata": {},
   "outputs": [
    {
     "data": {
      "text/plain": [
       "0                Preorder\n",
       "1                 InStock\n",
       "2               Clearance\n",
       "3                Preorder\n",
       "4               Clearance\n",
       "             ...         \n",
       "80               Preorder\n",
       "81                InStock\n",
       "82                InStock\n",
       "83               Preorder\n",
       "84    OnlyChildKitInStock\n",
       "Name: live, Length: 85, dtype: object"
      ]
     },
     "execution_count": 10,
     "metadata": {},
     "output_type": "execute_result"
    }
   ],
   "source": [
    "df[\"live\"].apply(lambda x: pattern.sub('', x))"
   ]
  },
  {
   "cell_type": "code",
   "execution_count": null,
   "metadata": {},
   "outputs": [],
   "source": []
  }
 ],
 "metadata": {
  "kernelspec": {
   "display_name": "hackillinois",
   "language": "python",
   "name": "python3"
  },
  "language_info": {
   "codemirror_mode": {
    "name": "ipython",
    "version": 3
   },
   "file_extension": ".py",
   "mimetype": "text/x-python",
   "name": "python",
   "nbconvert_exporter": "python",
   "pygments_lexer": "ipython3",
   "version": "3.9.16"
  },
  "orig_nbformat": 4,
  "vscode": {
   "interpreter": {
    "hash": "847e49ed545f3cd98dc992d4515e0c88e57b3147ee3142d3c15726edff805bcd"
   }
  }
 },
 "nbformat": 4,
 "nbformat_minor": 2
}
